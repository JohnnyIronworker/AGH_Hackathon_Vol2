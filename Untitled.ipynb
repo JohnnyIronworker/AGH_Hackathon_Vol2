{
 "cells": [
  {
   "cell_type": "code",
   "execution_count": 1,
   "id": "9817b505-5b59-48a7-a5fd-42cd8d779dbf",
   "metadata": {},
   "outputs": [
    {
     "name": "stderr",
     "output_type": "stream",
     "text": [
      "2024-05-09 22:20:43.995813: I tensorflow/core/platform/cpu_feature_guard.cc:182] This TensorFlow binary is optimized to use available CPU instructions in performance-critical operations.\n",
      "To enable the following instructions: SSE4.1 SSE4.2 AVX AVX2 AVX_VNNI FMA, in other operations, rebuild TensorFlow with the appropriate compiler flags.\n"
     ]
    },
    {
     "name": "stdout",
     "output_type": "stream",
     "text": [
      "[*********************100%%**********************]  1 of 1 completed\n",
      "[*********************100%%**********************]  1 of 1 completed\n"
     ]
    }
   ],
   "source": [
    "import yfinance as yf\n",
    "import pandas as pd\n",
    "import datetime\n",
    "from sklearn.preprocessing import MinMaxScaler\n",
    "import numpy as np\n",
    "from keras.models import Sequential\n",
    "from keras.layers import LSTM, Dense, Dropout\n",
    "import matplotlib.pyplot as plt\n",
    " \n",
    "data = yf.download(\"ALR.WA\", start=datetime.datetime.now()-datetime.timedelta(days = 60), \n",
    "                   end=datetime.datetime.now()-datetime.timedelta(days = 7),\n",
    "                   interval=\"5m\")\n",
    "data_test = yf.download(\"ALR.WA\", start=datetime.datetime.now()-datetime.timedelta(days = 14), interval=\"5m\")\n",
    "data = data.reset_index()"
   ]
  },
  {
   "cell_type": "code",
   "execution_count": 2,
   "id": "2a28944e-149d-4152-9d5f-a43d955e49c5",
   "metadata": {},
   "outputs": [],
   "source": [
    "scaler_tr = MinMaxScaler(feature_range=(0,1))\n",
    "X_train = (data.iloc[:, 2] + data.iloc[:, 3])/2\n",
    "Xs_train = scaler_tr.fit_transform(np.array(X_train).reshape(-1,1))\n",
    "scaler_te = MinMaxScaler(feature_range=(0,1))\n",
    "X_test = (data_test.iloc[:, 2] + data_test.iloc[:, 3])/2\n",
    "Xs_test = scaler_te.fit_transform(np.array(X_test).reshape(-1,1))"
   ]
  },
  {
   "cell_type": "code",
   "execution_count": 3,
   "id": "4d6f125c-5703-4855-af4a-61d10488594e",
   "metadata": {},
   "outputs": [
    {
     "data": {
      "text/plain": [
       "(2987, 400, 1)"
      ]
     },
     "execution_count": 3,
     "metadata": {},
     "output_type": "execute_result"
    }
   ],
   "source": [
    "X_train = []\n",
    "y_train = []\n",
    "for i in range(400, len(Xs_train)):\n",
    "    X_train.append(Xs_train[i-400:i, 0])\n",
    "    y_train.append(Xs_train[i, 0])\n",
    "X_train, y_train = np.array(X_train), np.array(y_train)\n",
    "X_train = np.reshape(X_train, (X_train.shape[0], X_train.shape[1], 1))\n",
    "X_train.shape"
   ]
  },
  {
   "cell_type": "code",
   "execution_count": null,
   "id": "1dbc9827-12e4-40e9-8bf5-693f70339a5d",
   "metadata": {},
   "outputs": [
    {
     "name": "stderr",
     "output_type": "stream",
     "text": [
      "2024-05-09 22:20:50.223510: I tensorflow/core/common_runtime/process_util.cc:146] Creating new thread pool with default inter op setting: 2. Tune using inter_op_parallelism_threads for best performance.\n"
     ]
    },
    {
     "name": "stdout",
     "output_type": "stream",
     "text": [
      "Epoch 1/40\n",
      "94/94 [==============================] - 60s 619ms/step - loss: 0.0212\n",
      "Epoch 2/40\n",
      "94/94 [==============================] - 60s 637ms/step - loss: 0.0050\n",
      "Epoch 3/40\n",
      "94/94 [==============================] - 76s 810ms/step - loss: 0.0046\n",
      "Epoch 4/40\n",
      "94/94 [==============================] - 61s 652ms/step - loss: 0.0039\n",
      "Epoch 5/40\n",
      "94/94 [==============================] - 64s 682ms/step - loss: 0.0041\n",
      "Epoch 6/40\n",
      "94/94 [==============================] - 69s 729ms/step - loss: 0.0037\n",
      "Epoch 7/40\n",
      "94/94 [==============================] - 66s 701ms/step - loss: 0.0041\n",
      "Epoch 8/40\n",
      "94/94 [==============================] - 63s 671ms/step - loss: 0.0035\n",
      "Epoch 9/40\n",
      "94/94 [==============================] - 66s 705ms/step - loss: 0.0030\n",
      "Epoch 10/40\n",
      "94/94 [==============================] - 62s 659ms/step - loss: 0.0034\n",
      "Epoch 11/40\n",
      "94/94 [==============================] - 63s 676ms/step - loss: 0.0032\n",
      "Epoch 12/40\n",
      "94/94 [==============================] - 66s 700ms/step - loss: 0.0028\n",
      "Epoch 13/40\n",
      "94/94 [==============================] - 61s 645ms/step - loss: 0.0028\n",
      "Epoch 14/40\n",
      "94/94 [==============================] - 67s 709ms/step - loss: 0.0029\n",
      "Epoch 15/40\n"
     ]
    }
   ],
   "source": [
    "model = Sequential()\n",
    "model.add(LSTM(50, activation=\"elu\", return_sequences=True,input_shape=(X_train.shape[1], 1)))\n",
    "model.add(Dropout(0.2))\n",
    "model.add(LSTM(units=50,activation=\"elu\",return_sequences=True))\n",
    "model.add(Dropout(0.2))\n",
    "model.add(LSTM(units=50, activation=\"elu\", return_sequences=True))\n",
    "model.add(Dropout(0.2))\n",
    "model.add(LSTM(units=50,activation=\"elu\"))\n",
    "model.add(Dropout(0.2))\n",
    "model.add(Dense(units=1))\n",
    "model.compile(optimizer='adam',loss='mean_squared_error')\n",
    "model.fit(X_train,y_train,epochs=40,batch_size=32)"
   ]
  },
  {
   "cell_type": "code",
   "execution_count": 93,
   "id": "2df71624-c553-43a7-afea-22db1457b2fe",
   "metadata": {},
   "outputs": [
    {
     "data": {
      "text/plain": [
       "((665, 90, 1), (665,))"
      ]
     },
     "execution_count": 93,
     "metadata": {},
     "output_type": "execute_result"
    }
   ],
   "source": [
    "X_test.shape, y_test.shape"
   ]
  },
  {
   "cell_type": "code",
   "execution_count": 167,
   "id": "72dd4e95-b8d3-413b-9743-b3cb1c349d07",
   "metadata": {
    "scrolled": true
   },
   "outputs": [
    {
     "name": "stdout",
     "output_type": "stream",
     "text": [
      "1/1 [==============================] - 0s 39ms/step\n",
      "1/1 [==============================] - 0s 51ms/step\n",
      "1/1 [==============================] - 0s 39ms/step\n",
      "1/1 [==============================] - 0s 37ms/step\n",
      "1/1 [==============================] - 0s 39ms/step\n",
      "1/1 [==============================] - 0s 40ms/step\n",
      "1/1 [==============================] - 0s 39ms/step\n",
      "1/1 [==============================] - 0s 37ms/step\n",
      "1/1 [==============================] - 0s 44ms/step\n",
      "1/1 [==============================] - 0s 38ms/step\n",
      "1/1 [==============================] - 0s 36ms/step\n",
      "1/1 [==============================] - 0s 37ms/step\n",
      "1/1 [==============================] - 0s 50ms/step\n",
      "1/1 [==============================] - 0s 37ms/step\n",
      "1/1 [==============================] - 0s 36ms/step\n",
      "1/1 [==============================] - 0s 37ms/step\n",
      "1/1 [==============================] - 0s 39ms/step\n",
      "1/1 [==============================] - 0s 36ms/step\n",
      "1/1 [==============================] - 0s 37ms/step\n",
      "1/1 [==============================] - 0s 36ms/step\n",
      "1/1 [==============================] - 0s 54ms/step\n",
      "1/1 [==============================] - 0s 37ms/step\n",
      "1/1 [==============================] - 0s 37ms/step\n",
      "1/1 [==============================] - 0s 38ms/step\n",
      "1/1 [==============================] - 0s 37ms/step\n",
      "1/1 [==============================] - 0s 37ms/step\n",
      "1/1 [==============================] - 0s 39ms/step\n",
      "1/1 [==============================] - 0s 37ms/step\n",
      "1/1 [==============================] - 0s 38ms/step\n",
      "1/1 [==============================] - 0s 38ms/step\n",
      "1/1 [==============================] - 0s 35ms/step\n",
      "1/1 [==============================] - 0s 36ms/step\n",
      "1/1 [==============================] - 0s 36ms/step\n",
      "1/1 [==============================] - 0s 37ms/step\n",
      "1/1 [==============================] - 0s 35ms/step\n",
      "1/1 [==============================] - 0s 36ms/step\n",
      "1/1 [==============================] - 0s 36ms/step\n",
      "1/1 [==============================] - 0s 37ms/step\n",
      "1/1 [==============================] - 0s 36ms/step\n",
      "1/1 [==============================] - 0s 37ms/step\n",
      "1/1 [==============================] - 0s 36ms/step\n",
      "1/1 [==============================] - 0s 36ms/step\n",
      "1/1 [==============================] - 0s 39ms/step\n",
      "1/1 [==============================] - 0s 36ms/step\n",
      "1/1 [==============================] - 0s 35ms/step\n",
      "1/1 [==============================] - 0s 35ms/step\n",
      "1/1 [==============================] - 0s 36ms/step\n",
      "1/1 [==============================] - 0s 40ms/step\n",
      "1/1 [==============================] - 0s 36ms/step\n",
      "1/1 [==============================] - 0s 36ms/step\n",
      "1/1 [==============================] - 0s 35ms/step\n",
      "1/1 [==============================] - 0s 35ms/step\n",
      "1/1 [==============================] - 0s 35ms/step\n",
      "1/1 [==============================] - 0s 36ms/step\n",
      "1/1 [==============================] - 0s 35ms/step\n",
      "1/1 [==============================] - 0s 36ms/step\n",
      "1/1 [==============================] - 0s 36ms/step\n",
      "1/1 [==============================] - 0s 35ms/step\n",
      "1/1 [==============================] - 0s 37ms/step\n",
      "1/1 [==============================] - 0s 38ms/step\n",
      "1/1 [==============================] - 0s 37ms/step\n",
      "1/1 [==============================] - 0s 37ms/step\n",
      "1/1 [==============================] - 0s 36ms/step\n",
      "1/1 [==============================] - 0s 36ms/step\n",
      "1/1 [==============================] - 0s 37ms/step\n",
      "1/1 [==============================] - 0s 37ms/step\n",
      "1/1 [==============================] - 0s 39ms/step\n",
      "1/1 [==============================] - 0s 41ms/step\n",
      "1/1 [==============================] - 0s 36ms/step\n",
      "1/1 [==============================] - 0s 36ms/step\n",
      "1/1 [==============================] - 0s 39ms/step\n",
      "1/1 [==============================] - 0s 38ms/step\n",
      "1/1 [==============================] - 0s 40ms/step\n",
      "1/1 [==============================] - 0s 36ms/step\n",
      "1/1 [==============================] - 0s 36ms/step\n",
      "1/1 [==============================] - 0s 37ms/step\n",
      "1/1 [==============================] - 0s 36ms/step\n",
      "1/1 [==============================] - 0s 38ms/step\n",
      "1/1 [==============================] - 0s 36ms/step\n",
      "1/1 [==============================] - 0s 43ms/step\n",
      "1/1 [==============================] - 0s 40ms/step\n",
      "1/1 [==============================] - 0s 38ms/step\n",
      "1/1 [==============================] - 0s 37ms/step\n",
      "1/1 [==============================] - 0s 39ms/step\n",
      "1/1 [==============================] - 0s 40ms/step\n",
      "1/1 [==============================] - 0s 37ms/step\n",
      "1/1 [==============================] - 0s 36ms/step\n",
      "1/1 [==============================] - 0s 36ms/step\n",
      "1/1 [==============================] - 0s 38ms/step\n",
      "1/1 [==============================] - 0s 50ms/step\n"
     ]
    }
   ],
   "source": [
    "previous = list(Xs_test[:90].reshape(1, -1).flatten())\n",
    "for i in range(len(Xs_test[:400])):\n",
    "    previous.append(model.predict(np.array(previous[-400:]).reshape(-1, 1)[None, :]).flatten()[0])"
   ]
  },
  {
   "cell_type": "code",
   "execution_count": 176,
   "id": "73996e23-1ebc-4c7f-ac8b-3609fbfa16fc",
   "metadata": {},
   "outputs": [
    {
     "data": {
      "text/plain": [
       "[<matplotlib.lines.Line2D at 0x7fea56e8fe50>]"
      ]
     },
     "execution_count": 176,
     "metadata": {},
     "output_type": "execute_result"
    },
    {
     "data": {
      "image/png": "[encoded data removed]",
      "text/plain": [
       "<Figure size 640x480 with 1 Axes>"
      ]
     },
     "metadata": {},
     "output_type": "display_data"
    }
   ],
   "source": [
    "plt.plot(y_test[90:180])\n",
    "plt.plot(previous[90:], color=\"red\")"
   ]
  },
  {
   "cell_type": "code",
   "execution_count": 177,
   "id": "ef0c9a73-b6de-4b19-9ce6-1607f143203c",
   "metadata": {},
   "outputs": [
    {
     "name": "stdout",
     "output_type": "stream",
     "text": [
      "[*********************100%%**********************]  1 of 1 completed\n"
     ]
    },
    {
     "data": {
      "text/plain": [
       "(3766, 6)"
      ]
     },
     "execution_count": 177,
     "metadata": {},
     "output_type": "execute_result"
    }
   ],
   "source": [
    "yf.download(\"ALR.WA\", start=datetime.datetime.now()-datetime.timedelta(days = 60), interval=\"5m\").shape"
   ]
  },
  {
   "cell_type": "code",
   "execution_count": 178,
   "id": "ce296834-d80a-4e88-9746-9af17f4bf932",
   "metadata": {},
   "outputs": [
    {
     "data": {
      "text/plain": [
       "62.766666666666666"
      ]
     },
     "execution_count": 178,
     "metadata": {},
     "output_type": "execute_result"
    }
   ],
   "source": [
    "3766/60"
   ]
  },
  {
   "cell_type": "code",
   "execution_count": null,
   "id": "77912f9d-3a7a-4956-82d1-2595d79d7561",
   "metadata": {},
   "outputs": [],
   "source": []
  }
 ],
 "metadata": {
  "kernelspec": {
   "display_name": "Python 3 (ipykernel)",
   "language": "python",
   "name": "python3"
  },
  "language_info": {
   "codemirror_mode": {
    "name": "ipython",
    "version": 3
   },
   "file_extension": ".py",
   "mimetype": "text/x-python",
   "name": "python",
   "nbconvert_exporter": "python",
   "pygments_lexer": "ipython3",
   "version": "3.11.5"
  },
  "widgets": {
   "application/vnd.jupyter.widget-state+json": {
    "state": {},
    "version_major": 2,
    "version_minor": 0
   }
  }
 },
 "nbformat": 4,
 "nbformat_minor": 5
}
